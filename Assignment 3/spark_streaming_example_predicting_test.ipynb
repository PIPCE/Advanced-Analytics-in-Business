{
 "cells": [
  {
   "cell_type": "code",
   "execution_count": 1,
   "metadata": {},
   "outputs": [
    {
     "data": {
      "text/html": [
       "<style>.container { width:95% !important; }</style>"
      ],
      "text/plain": [
       "<IPython.core.display.HTML object>"
      ]
     },
     "metadata": {},
     "output_type": "display_data"
    }
   ],
   "source": [
    "from IPython.core.display import display, HTML\n",
    "display(HTML(\"<style>.container { width:95% !important; }</style>\"))"
   ]
  },
  {
   "cell_type": "code",
   "execution_count": 2,
   "metadata": {},
   "outputs": [],
   "source": [
    "from threading import Thread\n",
    "\n",
    "class StreamingThread(Thread):\n",
    "    def __init__(self, ssc):\n",
    "        Thread.__init__(self)\n",
    "        self.ssc = ssc\n",
    "    def run(self):\n",
    "        ssc.start()\n",
    "        ssc.awaitTermination()\n",
    "    def stop(self):\n",
    "        print('----- Stopping... this may take a few seconds -----')\n",
    "        self.ssc.stop(stopSparkContext=False, stopGraceFully=True)"
   ]
  },
  {
   "cell_type": "code",
   "execution_count": 3,
   "metadata": {
    "scrolled": true
   },
   "outputs": [
    {
     "data": {
      "text/html": [
       "\n",
       "        <div>\n",
       "            <p><b>SparkContext</b></p>\n",
       "\n",
       "            <p><a href=\"http://192.168.0.154:4040\">Spark UI</a></p>\n",
       "\n",
       "            <dl>\n",
       "              <dt>Version</dt>\n",
       "                <dd><code>v3.1.1</code></dd>\n",
       "              <dt>Master</dt>\n",
       "                <dd><code>local[*]</code></dd>\n",
       "              <dt>AppName</dt>\n",
       "                <dd><code>PySparkShell</code></dd>\n",
       "            </dl>\n",
       "        </div>\n",
       "        "
      ],
      "text/plain": [
       "<SparkContext master=local[*] appName=PySparkShell>"
      ]
     },
     "execution_count": 3,
     "metadata": {},
     "output_type": "execute_result"
    }
   ],
   "source": [
    "sc"
   ]
  },
  {
   "cell_type": "code",
   "execution_count": 4,
   "metadata": {},
   "outputs": [
    {
     "data": {
      "text/html": [
       "\n",
       "            <div>\n",
       "                <p><b>SparkSession - hive</b></p>\n",
       "                \n",
       "        <div>\n",
       "            <p><b>SparkContext</b></p>\n",
       "\n",
       "            <p><a href=\"http://192.168.0.154:4040\">Spark UI</a></p>\n",
       "\n",
       "            <dl>\n",
       "              <dt>Version</dt>\n",
       "                <dd><code>v3.1.1</code></dd>\n",
       "              <dt>Master</dt>\n",
       "                <dd><code>local[*]</code></dd>\n",
       "              <dt>AppName</dt>\n",
       "                <dd><code>PySparkShell</code></dd>\n",
       "            </dl>\n",
       "        </div>\n",
       "        \n",
       "            </div>\n",
       "        "
      ],
      "text/plain": [
       "<pyspark.sql.session.SparkSession at 0x2bcf61e7048>"
      ]
     },
     "execution_count": 4,
     "metadata": {},
     "output_type": "execute_result"
    }
   ],
   "source": [
    "spark"
   ]
  },
  {
   "cell_type": "code",
   "execution_count": 5,
   "metadata": {},
   "outputs": [],
   "source": [
    "from pyspark.streaming import StreamingContext\n",
    "from pyspark.sql import Row\n",
    "from pyspark.sql.functions import udf, struct, array, col, lit\n",
    "from pyspark.sql.types import StringType\n",
    " "
   ]
  },
  {
   "cell_type": "code",
   "execution_count": 6,
   "metadata": {},
   "outputs": [
    {
     "name": "stdout",
     "output_type": "stream",
     "text": [
      "root\n",
      " |-- label: string (nullable = true)\n",
      " |-- tweet_id: string (nullable = true)\n",
      " |-- tweet_text: string (nullable = true)\n",
      "\n"
     ]
    }
   ],
   "source": [
    "from pyspark.sql.types import StructType,StructField, StringType\n",
    "\n",
    "schema = StructType([\n",
    "  StructField('label', StringType(), True),\n",
    "  StructField('tweet_id', StringType(), True),\n",
    "  StructField('tweet_text', StringType(), True)\n",
    "  ])\n",
    "\n",
    "df1 = spark.createDataFrame(spark.sparkContext.emptyRDD(),schema)\n",
    "df1.printSchema()"
   ]
  },
  {
   "cell_type": "code",
   "execution_count": 7,
   "metadata": {},
   "outputs": [],
   "source": [
    "globals()['models_loaded'] = False\n",
    "globals()['my_model'] = None\n",
    "\n",
    "# Very simple predict function. Normally you'd use your loaded globals()['my_model'] here\n",
    "def predict(df):\n",
    "    l = [\"vaccine\", \"stopasianhate\", \"covid\", \"china\", \"inflation\", \"biden\"]\n",
    "    for word in l:\n",
    "        if word in df.tweet_text.lower():\n",
    "            return word\n",
    "    else:\n",
    "        return 'covid'\n",
    "\n",
    "predict_udf = udf(predict, StringType())\n",
    "\n",
    "def process(time, rdd):\n",
    "    if rdd.isEmpty():\n",
    "        return\n",
    "    \n",
    "    rdd.coalesce(1).saveAsTextFile('file:///C:/Users/lenne/Desktop/spark/coding_and_data/data/lots_of_data.txt')\n",
    "    \n",
    "    print(\"========= %s =========\" % str(time))\n",
    "    \n",
    "    # Convert to data frame\n",
    "    df = spark.read.json(rdd)\n",
    "    df.show()\n",
    "    \n",
    "    #df.write.saveAsTable(name=\"table\",mode=\"append\")\n",
    "    \n",
    "\n",
    "    #df.write.json(path = 'C:/Users/lenne/Desktop/spark/coding_and_data/data', mode  ='append')\n",
    "    \n",
    "\n",
    "    \n",
    "    # Utilize our predict function  #userdefinedfunction(udf)\n",
    "    df_withpreds = df.withColumn(\"pred\", predict_udf(   \n",
    "        struct([df[x] for x in df.columns])\n",
    "    ))\n",
    "    df_withpreds.show()\n",
    "    \n",
    "    # Normally, you wouldn't use a UDF (User Defined Function) Python function to predict as we did here (you can)\n",
    "    # but an MLlib model you've built and saved with Spark\n",
    "    # In this case, you need to prevent loading your model in every call to \"process\" as follows:\n",
    "    \n",
    "    # Load in the model if not yet loaded:\n",
    "    if not globals()['models_loaded']:\n",
    "        # load in your models here\n",
    "        globals()['my_model'] = '***' # Replace '***' with:    [...].load('my_logistic_regression')\n",
    "        globals()['models_loaded'] = True\n",
    "        \n",
    "    # And then predict using the loaded model: \n",
    "    # df_result = globals()['my_model'].transform(df)\n",
    "    # df_result.show()"
   ]
  },
  {
   "cell_type": "code",
   "execution_count": 8,
   "metadata": {},
   "outputs": [],
   "source": [
    "ssc = StreamingContext(sc, 12345)\n"
   ]
  },
  {
   "cell_type": "code",
   "execution_count": 9,
   "metadata": {
    "scrolled": true
   },
   "outputs": [],
   "source": [
    "lines = ssc.socketTextStream(\"seppe.net\", 7778)\n",
    "#lines.saveAsTextFiles(\"file:///C:/Users/lenne/Desktop/spark/coding_and_data/data\")\n",
    "lines.foreachRDD(process)"
   ]
  },
  {
   "cell_type": "code",
   "execution_count": null,
   "metadata": {},
   "outputs": [],
   "source": []
  },
  {
   "cell_type": "code",
   "execution_count": 10,
   "metadata": {
    "scrolled": false
   },
   "outputs": [
    {
     "name": "stdout",
     "output_type": "stream",
     "text": [
      "========= 2021-04-16 11:28:15 =========\n",
      "+--------------+-------------------+--------------------+\n",
      "|         label|           tweet_id|          tweet_text|\n",
      "+--------------+-------------------+--------------------+\n",
      "|        #covid|1382954933805195271|@AndhraPradeshCM ...|\n",
      "|        #covid|1382954848639848453|Our frontline sta...|\n",
      "|#stopasianhate|1382955297413681154|@lordofthesleepy ...|\n",
      "|        #covid|1382955669364514818|On 16 Apr 2020 th...|\n",
      "|        #covid|1382955573092573184|If I remember cor...|\n",
      "|#stopasianhate|1382955861727920131|What freedom? #██...|\n",
      "|      #vaccine|1382956181119856649|@PMOIndia should ...|\n",
      "|      #vaccine|1382956072210554882|If vaccine does n...|\n",
      "|        #covid|1382956585236844552|@swati_gs Each an...|\n",
      "|        #covid|1382956583290859520|It's also frustra...|\n",
      "|    #inflation|1382956786106437632|The NPS will no l...|\n",
      "|      #vaccine|1382957070735921154|A new interim ceo...|\n",
      "|      #vaccine|1382956813461557261|BRAIN CLOTS \"MORE...|\n",
      "|        #china|1382957409136635907|#███████ is the s...|\n",
      "|        #china|1382957403101134850|Turkey initiated ...|\n",
      "|        #biden|1382957679480512516|LKCO Stock MAJOR ...|\n",
      "|        #biden|1382957524450570241|Biden's plan to r...|\n",
      "|        #biden|1382957420704587776|#███████ calls fo...|\n",
      "|      #vaccine|1382958000814624768|@jkwan_md @SOGCor...|\n",
      "|      #vaccine|1382957950088613889|Centre clears Mum...|\n",
      "+--------------+-------------------+--------------------+\n",
      "only showing top 20 rows\n",
      "\n",
      "+--------------+-------------------+--------------------+-------+\n",
      "|         label|           tweet_id|          tweet_text|   pred|\n",
      "+--------------+-------------------+--------------------+-------+\n",
      "|        #covid|1382954933805195271|@AndhraPradeshCM ...|  covid|\n",
      "|        #covid|1382954848639848453|Our frontline sta...|  covid|\n",
      "|#stopasianhate|1382955297413681154|@lordofthesleepy ...|  covid|\n",
      "|        #covid|1382955669364514818|On 16 Apr 2020 th...|  covid|\n",
      "|        #covid|1382955573092573184|If I remember cor...|vaccine|\n",
      "|#stopasianhate|1382955861727920131|What freedom? #██...|  covid|\n",
      "|      #vaccine|1382956181119856649|@PMOIndia should ...|  covid|\n",
      "|      #vaccine|1382956072210554882|If vaccine does n...|vaccine|\n",
      "|        #covid|1382956585236844552|@swati_gs Each an...|  covid|\n",
      "|        #covid|1382956583290859520|It's also frustra...|vaccine|\n",
      "|    #inflation|1382956786106437632|The NPS will no l...|  covid|\n",
      "|      #vaccine|1382957070735921154|A new interim ceo...|  covid|\n",
      "|      #vaccine|1382956813461557261|BRAIN CLOTS \"MORE...|vaccine|\n",
      "|        #china|1382957409136635907|#███████ is the s...|  covid|\n",
      "|        #china|1382957403101134850|Turkey initiated ...|  china|\n",
      "|        #biden|1382957679480512516|LKCO Stock MAJOR ...|  covid|\n",
      "|        #biden|1382957524450570241|Biden's plan to r...|  biden|\n",
      "|        #biden|1382957420704587776|#███████ calls fo...|  covid|\n",
      "|      #vaccine|1382958000814624768|@jkwan_md @SOGCor...|  covid|\n",
      "|      #vaccine|1382957950088613889|Centre clears Mum...|  covid|\n",
      "+--------------+-------------------+--------------------+-------+\n",
      "only showing top 20 rows\n",
      "\n"
     ]
    }
   ],
   "source": [
    "ssc_t = StreamingThread(ssc)\n",
    "ssc_t.start()"
   ]
  },
  {
   "cell_type": "code",
   "execution_count": null,
   "metadata": {
    "scrolled": true
   },
   "outputs": [
    {
     "name": "stdout",
     "output_type": "stream",
     "text": [
      "----- Stopping... this may take a few seconds -----\n"
     ]
    }
   ],
   "source": [
    "ssc_t.stop()"
   ]
  },
  {
   "cell_type": "code",
   "execution_count": null,
   "metadata": {},
   "outputs": [],
   "source": []
  }
 ],
 "metadata": {
  "kernelspec": {
   "display_name": "Python 3",
   "language": "python",
   "name": "python3"
  },
  "language_info": {
   "codemirror_mode": {
    "name": "ipython",
    "version": 3
   },
   "file_extension": ".py",
   "mimetype": "text/x-python",
   "name": "python",
   "nbconvert_exporter": "python",
   "pygments_lexer": "ipython3",
   "version": "3.8.5"
  },
  "toc": {
   "base_numbering": 1,
   "nav_menu": {},
   "number_sections": true,
   "sideBar": true,
   "skip_h1_title": false,
   "title_cell": "Table of Contents",
   "title_sidebar": "Contents",
   "toc_cell": false,
   "toc_position": {},
   "toc_section_display": true,
   "toc_window_display": false
  }
 },
 "nbformat": 4,
 "nbformat_minor": 2
}
