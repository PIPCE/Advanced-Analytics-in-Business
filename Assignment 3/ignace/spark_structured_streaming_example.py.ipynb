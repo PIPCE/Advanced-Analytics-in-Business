{
 "cells": [
  {
   "cell_type": "code",
   "execution_count": 60,
   "metadata": {},
   "outputs": [
    {
     "data": {
      "text/html": [
       "<style>.container { width:95% !important; }</style>"
      ],
      "text/plain": [
       "<IPython.core.display.HTML object>"
      ]
     },
     "metadata": {},
     "output_type": "display_data"
    }
   ],
   "source": [
    "from IPython.core.display import display, HTML\n",
    "display(HTML(\"<style>.container { width:95% !important; }</style>\"))\n",
    "from pyspark.sql import SparkSession\n",
    "import pyspark.sql.functions as F\n",
    "from pyspark.sql.types import StructField, StructType, StringType, DoubleType, TimestampType\n",
    "from pyspark.sql import DataFrameWriter\n",
    "from pyspark.sql.functions import  regexp_extract, col, regexp_replace\n",
    "from pyspark.sql.types import *\n",
    "from pyspark.sql import functions as F"
   ]
  },
  {
   "cell_type": "code",
   "execution_count": 2,
   "metadata": {},
   "outputs": [
    {
     "data": {
      "text/html": [
       "\n",
       "        <div>\n",
       "            <p><b>SparkContext</b></p>\n",
       "\n",
       "            <p><a href=\"http://192.168.0.233:4040\">Spark UI</a></p>\n",
       "\n",
       "            <dl>\n",
       "              <dt>Version</dt>\n",
       "                <dd><code>v3.1.1</code></dd>\n",
       "              <dt>Master</dt>\n",
       "                <dd><code>local[*]</code></dd>\n",
       "              <dt>AppName</dt>\n",
       "                <dd><code>PySparkShell</code></dd>\n",
       "            </dl>\n",
       "        </div>\n",
       "        "
      ],
      "text/plain": [
       "<SparkContext master=local[*] appName=PySparkShell>"
      ]
     },
     "execution_count": 2,
     "metadata": {},
     "output_type": "execute_result"
    }
   ],
   "source": [
    "sc"
   ]
  },
  {
   "cell_type": "code",
   "execution_count": 3,
   "metadata": {},
   "outputs": [
    {
     "data": {
      "text/html": [
       "\n",
       "            <div>\n",
       "                <p><b>SparkSession - hive</b></p>\n",
       "                \n",
       "        <div>\n",
       "            <p><b>SparkContext</b></p>\n",
       "\n",
       "            <p><a href=\"http://192.168.0.233:4040\">Spark UI</a></p>\n",
       "\n",
       "            <dl>\n",
       "              <dt>Version</dt>\n",
       "                <dd><code>v3.1.1</code></dd>\n",
       "              <dt>Master</dt>\n",
       "                <dd><code>local[*]</code></dd>\n",
       "              <dt>AppName</dt>\n",
       "                <dd><code>PySparkShell</code></dd>\n",
       "            </dl>\n",
       "        </div>\n",
       "        \n",
       "            </div>\n",
       "        "
      ],
      "text/plain": [
       "<pyspark.sql.session.SparkSession at 0x1703e734730>"
      ]
     },
     "execution_count": 3,
     "metadata": {},
     "output_type": "execute_result"
    }
   ],
   "source": [
    "spark"
   ]
  },
  {
   "cell_type": "code",
   "execution_count": 61,
   "metadata": {},
   "outputs": [
    {
     "name": "stdout",
     "output_type": "stream",
     "text": [
      "root\n",
      " |-- value: string (nullable = true)\n",
      "\n"
     ]
    }
   ],
   "source": [
    "socketDF = spark.readStream.format(\"socket\").option(\"host\", \"seppe.net\").option(\"port\", 7778).load()\n",
    "\n",
    "socketDF.printSchema()\n"
   ]
  },
  {
   "cell_type": "code",
   "execution_count": 62,
   "metadata": {},
   "outputs": [],
   "source": [
    "from pyspark.sql.functions import from_json, schema_of_json"
   ]
  },
  {
   "cell_type": "code",
   "execution_count": 63,
   "metadata": {},
   "outputs": [],
   "source": [
    "def process_row(df, epoch_id):\n",
    "    print(epoch_id)\n",
    "    if df.count() == 0: return\n",
    "    schema = schema_of_json(df.first().value)\n",
    "    df_cols = df.selectExpr('CAST(value AS STRING)')\\\n",
    "        .select(from_json('value', schema)\\\n",
    "        .alias('temp'))\\\n",
    "        .select('temp.*')\n",
    "    df_cols.show()"
   ]
  },
  {
   "cell_type": "code",
   "execution_count": 69,
   "metadata": {},
   "outputs": [],
   "source": [
    "\n",
    "\n",
    "test = socketDF.writeStream\\\n",
    "    .format(\"parquet\")\\\n",
    "    .option(\"path\", \"file:///C:/Users/ignac/Documents/data/deel3/tweets\")\\\n",
    "    .option(\"checkpointLocation\", \"file:///C:/Users/ignac/Documents/data/deel3\")\\\n",
    "    .start()\n",
    "\n"
   ]
  },
  {
   "cell_type": "code",
   "execution_count": 8,
   "metadata": {
    "scrolled": true
   },
   "outputs": [],
   "source": [
    "test.stop()"
   ]
  },
  {
   "cell_type": "code",
   "execution_count": 87,
   "metadata": {
    "scrolled": false
   },
   "outputs": [
    {
     "name": "stdout",
     "output_type": "stream",
     "text": [
      "1118\n",
      "82\n",
      "829\n",
      "2029\n"
     ]
    }
   ],
   "source": [
    "\n",
    "\n",
    "\n",
    "file_path1 = \"file:///C:/Users/ignac/Documents/data/deel2/tweets\"\n",
    "file_path2 = \"file:///C:/Users/ignac/Documents/data/tweets\"\n",
    "file_path3 = \"file:///C:/Users/ignac/Documents/data/deel3/tweets\"\n",
    "rawDF1 = spark.read.parquet(file_path1)\n",
    "rawDF2 = spark.read.parquet(file_path2)\n",
    "rawDF3 = spark.read.parquet(file_path3)\n",
    "print(rawDF1.count())\n",
    "print(rawDF2.count())\n",
    "print(rawDF3.count())\n",
    "\n",
    "\n",
    "rawDF1_0 = rawDF1.union(rawDF2)\n",
    "rawDF = rawDF1_0.union(rawDF3)\n",
    "\n",
    "print(rawDF.count())"
   ]
  },
  {
   "cell_type": "code",
   "execution_count": 88,
   "metadata": {},
   "outputs": [],
   "source": [
    "\n",
    "regex1 = r'(\\d+)'\n",
    "regex2 = r'(\"#\\w+\")'\n",
    "regex3 = r'\"tweet_id\": \\d+, \"tweet_text\": ' \n",
    "regex4 = r'\"label\": \"#\\w+\"'\n",
    "DF = rawDF.withColumn('tweet_id',regexp_extract(col('value'), regex1, 1))\\\n",
    ".withColumn('label',regexp_extract(col('value'), regex2, 1))\\\n",
    ".withColumn('tweet_text1',F.regexp_replace('value', regex3, ''))\n",
    "\n",
    "DF = DF.withColumn('tweet_text',F.regexp_replace('tweet_text1', regex4, ''))\n",
    "\n",
    "DF.write.parquet('file:///C:/Users/ignac/Documents/data/dataframe2', mode=\"overwrite\")"
   ]
  },
  {
   "cell_type": "code",
   "execution_count": 89,
   "metadata": {},
   "outputs": [
    {
     "name": "stdout",
     "output_type": "stream",
     "text": [
      "+--------------------+-------------------+----------------+--------------------+--------------------+\n",
      "|               value|           tweet_id|           label|         tweet_text1|          tweet_text|\n",
      "+--------------------+-------------------+----------------+--------------------+--------------------+\n",
      "|{\"tweet_id\": 1389...|1389090870696185859|        \"#biden\"|{\"@2ordinary1 @cl...|{\"@2ordinary1 @cl...|\n",
      "|{\"tweet_id\": 1388...|1388991974263463937|        \"#china\"|{\"#\\u2588\\u2588\\u...|{\"#\\u2588\\u2588\\u...|\n",
      "|{\"tweet_id\": 1389...|1389083482320560130|        \"#china\"|{\"TSMC says can c...|{\"TSMC says can c...|\n",
      "|{\"tweet_id\": 1389...|1389098504778403841|    \"#inflation\"|{\"\\ud83d\\udea8\\ud...|{\"\\ud83d\\udea8\\ud...|\n",
      "|{\"tweet_id\": 1389...|1389079721766391813|        \"#covid\"|{\"It was a heart,...|{\"It was a heart,...|\n",
      "|{\"tweet_id\": 1389...|1389053238268227584|        \"#covid\"|{\"Our liberty dep...|{\"Our liberty dep...|\n",
      "|{\"tweet_id\": 1389...|1389069630895915013|      \"#vaccine\"|{\"#\\u2588\\u2588\\u...|{\"#\\u2588\\u2588\\u...|\n",
      "|{\"tweet_id\": 1389...|1389070267964542976|      \"#vaccine\"|{\"#\\u2588\\u2588\\u...|{\"#\\u2588\\u2588\\u...|\n",
      "|{\"tweet_id\": 1389...|1389086915735932928|      \"#vaccine\"|{\"#\\u2588\\u2588\\u...|{\"#\\u2588\\u2588\\u...|\n",
      "|{\"tweet_id\": 1389...|1389041057581522949|        \"#china\"|{\"\\ud83d\\udc49@kn...|{\"\\ud83d\\udc49@kn...|\n",
      "|{\"tweet_id\": 1389...|1389102679507423234|        \"#china\"|{\"\\ud83c\\udd7f\\uf...|{\"\\ud83c\\udd7f\\uf...|\n",
      "|{\"tweet_id\": 1389...|1389031221326356480|        \"#china\"|{\"@nila3333 @jyot...|{\"@nila3333 @jyot...|\n",
      "|{\"tweet_id\": 1389...|1389018103225458689|\"#stopasianhate\"|{\"You Wear It Wel...|{\"You Wear It Wel...|\n",
      "|{\"tweet_id\": 1389...|1389063978798796800|        \"#biden\"|{\"Double DOWN ......|{\"Double DOWN ......|\n",
      "|{\"tweet_id\": 1389...|1389064306839343104|        \"#biden\"|{\"@JohnCena Here ...|{\"@JohnCena Here ...|\n",
      "|{\"tweet_id\": 1389...|1389030124985602048|        \"#biden\"|{\"WNBA star Stewa...|{\"WNBA star Stewa...|\n",
      "|{\"tweet_id\": 1389...|1389054995476086785|        \"#covid\"|{\"Throw Pillow\\nJ...|{\"Throw Pillow\\nJ...|\n",
      "|{\"tweet_id\": 1389...|1389037501797523459|        \"#covid\"|{\"@nitin_gadkari ...|{\"@nitin_gadkari ...|\n",
      "|{\"tweet_id\": 1389...|1389014354285273088|      \"#vaccine\"|{\"\\\"#\\u2588\\u2588...|{\"\\\"#\\u2588\\u2588...|\n",
      "|{\"tweet_id\": 1389...|1389037006118957059|        \"#covid\"|{\"\\\"#\\u2588\\u2588...|{\"\\\"#\\u2588\\u2588...|\n",
      "+--------------------+-------------------+----------------+--------------------+--------------------+\n",
      "only showing top 20 rows\n",
      "\n"
     ]
    }
   ],
   "source": [
    "df = spark.read.load(\"file:///C:/Users/ignac/Documents/data/dataframe2\")\n",
    "\n",
    "df.show()"
   ]
  },
  {
   "cell_type": "markdown",
   "metadata": {},
   "source": [
    "# testing (not relevant) \n",
    "\n"
   ]
  },
  {
   "cell_type": "code",
   "execution_count": null,
   "metadata": {},
   "outputs": [],
   "source": [
    "def process_row(df, epoch_id):\n",
    "    print(epoch_id)\n",
    "    if df.count() == 0: return\n",
    "    schema = schema_of_json(df.first().value)\n",
    "    df_cols = df.selectExpr('CAST(value AS STRING)')\\\n",
    "        .select(from_json('value', schema)\\\n",
    "        .alias('temp'))\\\n",
    "        .select('temp.*')\n",
    "    df_cols.show()"
   ]
  },
  {
   "cell_type": "code",
   "execution_count": null,
   "metadata": {},
   "outputs": [],
   "source": [
    "query = socketDF.writeStream\\\n",
    "    .trigger(processingTime='5 seconds')\\\n",
    "    .foreachBatch(process_row)\\\n",
    "    .option(\"path\", \"file:///C:/Users/ignac/Documents/data/tweets\")\\\n",
    "    .option(\"checkpointLocation\", \"file:///C:/Users/ignac/Documents/data\")\\\n",
    "    .start() "
   ]
  },
  {
   "cell_type": "code",
   "execution_count": null,
   "metadata": {},
   "outputs": [],
   "source": [
    "userSchema = StructType().add(\"tweet_id\", \"integer\").add(\"tweet_text\", \"string\").add(\"label\", \"string\")\n",
    "\n",
    "df = spark.readStream\\\n",
    ".format(\"parquet\")\\\n",
    ".option(\"sep\", \",\")\\\n",
    ".schema(userSchema)\\\n",
    ".parquet(\"file:///C:/Users/ignac/Documents/data/tweets\")"
   ]
  }
 ],
 "metadata": {
  "kernelspec": {
   "display_name": "Python 3",
   "language": "python",
   "name": "python3"
  },
  "language_info": {
   "codemirror_mode": {
    "name": "ipython",
    "version": 3
   },
   "file_extension": ".py",
   "mimetype": "text/x-python",
   "name": "python",
   "nbconvert_exporter": "python",
   "pygments_lexer": "ipython3",
   "version": "3.9.4"
  },
  "toc": {
   "base_numbering": 1,
   "nav_menu": {},
   "number_sections": true,
   "sideBar": true,
   "skip_h1_title": false,
   "title_cell": "Table of Contents",
   "title_sidebar": "Contents",
   "toc_cell": false,
   "toc_position": {},
   "toc_section_display": true,
   "toc_window_display": false
  }
 },
 "nbformat": 4,
 "nbformat_minor": 2
}
