{
 "cells": [
  {
   "cell_type": "code",
   "execution_count": 1,
   "metadata": {},
   "outputs": [
    {
     "data": {
      "text/html": [
       "<style>.container { width:95% !important; }</style>"
      ],
      "text/plain": [
       "<IPython.core.display.HTML object>"
      ]
     },
     "metadata": {},
     "output_type": "display_data"
    }
   ],
   "source": [
    "from IPython.core.display import display, HTML\n",
    "display(HTML(\"<style>.container { width:95% !important; }</style>\"))"
   ]
  },
  {
   "cell_type": "code",
   "execution_count": 2,
   "metadata": {},
   "outputs": [],
   "source": [
    "from threading import Thread\n",
    "\n",
    "class StreamingThread(Thread):\n",
    "    def __init__(self, ssc):\n",
    "        Thread.__init__(self)\n",
    "        self.ssc = ssc\n",
    "    def run(self):\n",
    "        ssc.start()\n",
    "        ssc.awaitTermination()\n",
    "    def stop(self):\n",
    "        print('----- Stopping... this may take a few seconds -----')\n",
    "        self.ssc.stop(stopSparkContext=False, stopGraceFully=True)"
   ]
  },
  {
   "cell_type": "code",
   "execution_count": 3,
   "metadata": {
    "scrolled": true
   },
   "outputs": [
    {
     "data": {
      "text/html": [
       "\n",
       "        <div>\n",
       "            <p><b>SparkContext</b></p>\n",
       "\n",
       "            <p><a href=\"http://DESKTOP-20E7SV6:4040\">Spark UI</a></p>\n",
       "\n",
       "            <dl>\n",
       "              <dt>Version</dt>\n",
       "                <dd><code>v3.1.1</code></dd>\n",
       "              <dt>Master</dt>\n",
       "                <dd><code>local[*]</code></dd>\n",
       "              <dt>AppName</dt>\n",
       "                <dd><code>PySparkShell</code></dd>\n",
       "            </dl>\n",
       "        </div>\n",
       "        "
      ],
      "text/plain": [
       "<SparkContext master=local[*] appName=PySparkShell>"
      ]
     },
     "execution_count": 3,
     "metadata": {},
     "output_type": "execute_result"
    }
   ],
   "source": [
    "sc"
   ]
  },
  {
   "cell_type": "code",
   "execution_count": 4,
   "metadata": {},
   "outputs": [
    {
     "data": {
      "text/html": [
       "\n",
       "            <div>\n",
       "                <p><b>SparkSession - hive</b></p>\n",
       "                \n",
       "        <div>\n",
       "            <p><b>SparkContext</b></p>\n",
       "\n",
       "            <p><a href=\"http://DESKTOP-20E7SV6:4040\">Spark UI</a></p>\n",
       "\n",
       "            <dl>\n",
       "              <dt>Version</dt>\n",
       "                <dd><code>v3.1.1</code></dd>\n",
       "              <dt>Master</dt>\n",
       "                <dd><code>local[*]</code></dd>\n",
       "              <dt>AppName</dt>\n",
       "                <dd><code>PySparkShell</code></dd>\n",
       "            </dl>\n",
       "        </div>\n",
       "        \n",
       "            </div>\n",
       "        "
      ],
      "text/plain": [
       "<pyspark.sql.session.SparkSession at 0x1c9d38badf0>"
      ]
     },
     "execution_count": 4,
     "metadata": {},
     "output_type": "execute_result"
    }
   ],
   "source": [
    "spark"
   ]
  },
  {
   "cell_type": "code",
   "execution_count": 5,
   "metadata": {},
   "outputs": [],
   "source": [
    "from pyspark.streaming import StreamingContext\n",
    "from pyspark.sql import Row\n",
    "from pyspark.sql.functions import udf, struct, array, col, lit\n",
    "from pyspark.sql.types import StringType"
   ]
  },
  {
   "cell_type": "code",
   "execution_count": 6,
   "metadata": {},
   "outputs": [],
   "source": [
    "globals()['models_loaded'] = False\n",
    "globals()['my_model'] = None\n",
    "\n",
    "# Very simple predict function. Normally you'd use your loaded globals()['my_model'] here\n",
    "def predict(df):\n",
    "    l = [\"vaccine\", \"stopasianhate\", \"covid\", \"china\", \"inflation\", \"biden\"]\n",
    "    for word in l:\n",
    "        if word in df.tweet_text.lower():\n",
    "            return word\n",
    "    else:\n",
    "        return 'covid'\n",
    "\n",
    "predict_udf = udf(predict, StringType())\n",
    "\n",
    "def process(time, rdd):\n",
    "    if rdd.isEmpty():\n",
    "        return\n",
    "    \n",
    "    print(\"========= %s =========\" % str(time))\n",
    "    \n",
    "    # Convert to data frame\n",
    "    df = spark.read.json(rdd)\n",
    "    df.show()\n",
    "    \n",
    "    # Utilize our predict function\n",
    "    df_withpreds = df.withColumn(\"pred\", predict_udf(\n",
    "        struct([df[x] for x in df.columns])\n",
    "    ))\n",
    "    df_withpreds.show()\n",
    "    \n",
    "    # Normally, you wouldn't use a UDF (User Defined Function) Python function to predict as we did here (you can)\n",
    "    # but an MLlib model you've built and saved with Spark\n",
    "    # In this case, you need to prevent loading your model in every call to \"process\" as follows:\n",
    "    \n",
    "    # Load in the model if not yet loaded:\n",
    "    if not globals()['models_loaded']:\n",
    "        # load in your models here\n",
    "        globals()['my_model'] = '***' # Replace '***' with:    [...].load('my_logistic_regression')\n",
    "        globals()['models_loaded'] = True\n",
    "        \n",
    "    # And then predict using the loaded model: \n",
    "    # df_result = globals()['my_model'].transform(df)\n",
    "    # df_result.show()"
   ]
  },
  {
   "cell_type": "code",
   "execution_count": 7,
   "metadata": {},
   "outputs": [],
   "source": [
    "ssc = StreamingContext(sc, 10)"
   ]
  },
  {
   "cell_type": "code",
   "execution_count": 8,
   "metadata": {
    "scrolled": true
   },
   "outputs": [],
   "source": [
    "lines = ssc.socketTextStream(\"seppe.net\", 7778)\n",
    "lines.foreachRDD(process)"
   ]
  },
  {
   "cell_type": "code",
   "execution_count": 9,
   "metadata": {
    "scrolled": false
   },
   "outputs": [
    {
     "name": "stdout",
     "output_type": "stream",
     "text": [
      "========= 2021-04-06 12:12:00 =========\n",
      "+--------------+-------------------+--------------------+\n",
      "|         label|           tweet_id|          tweet_text|\n",
      "+--------------+-------------------+--------------------+\n",
      "|#stopasianhate|1379373968864407562|😩😩😩😩\n",
      "GIVE A V...|\n",
      "+--------------+-------------------+--------------------+\n",
      "\n",
      "+--------------+-------------------+--------------------+-----+\n",
      "|         label|           tweet_id|          tweet_text| pred|\n",
      "+--------------+-------------------+--------------------+-----+\n",
      "|#stopasianhate|1379373968864407562|😩😩😩😩\n",
      "GIVE A V...|covid|\n",
      "+--------------+-------------------+--------------------+-----+\n",
      "\n",
      "========= 2021-04-06 12:12:10 =========\n",
      "+------+-------------------+--------------------+\n",
      "| label|           tweet_id|          tweet_text|\n",
      "+------+-------------------+--------------------+\n",
      "|#covid|1379374275728191490|Stand-Up Comedian...|\n",
      "+------+-------------------+--------------------+\n",
      "\n",
      "+------+-------------------+--------------------+-----+\n",
      "| label|           tweet_id|          tweet_text| pred|\n",
      "+------+-------------------+--------------------+-----+\n",
      "|#covid|1379374275728191490|Stand-Up Comedian...|covid|\n",
      "+------+-------------------+--------------------+-----+\n",
      "\n",
      "========= 2021-04-06 12:12:20 =========\n",
      "+------+-------------------+--------------------+\n",
      "| label|           tweet_id|          tweet_text|\n",
      "+------+-------------------+--------------------+\n",
      "|#covid|1379374207247736834|To ask Min ⁦@IRLD...|\n",
      "+------+-------------------+--------------------+\n",
      "\n",
      "+------+-------------------+--------------------+-----+\n",
      "| label|           tweet_id|          tweet_text| pred|\n",
      "+------+-------------------+--------------------+-----+\n",
      "|#covid|1379374207247736834|To ask Min ⁦@IRLD...|covid|\n",
      "+------+-------------------+--------------------+-----+\n",
      "\n",
      "========= 2021-04-06 12:12:30 =========\n",
      "+------+-------------------+--------------------+\n",
      "| label|           tweet_id|          tweet_text|\n",
      "+------+-------------------+--------------------+\n",
      "|#covid|1379374206803136514|Covid: DVLA staff...|\n",
      "+------+-------------------+--------------------+\n",
      "\n",
      "+------+-------------------+--------------------+-----+\n",
      "| label|           tweet_id|          tweet_text| pred|\n",
      "+------+-------------------+--------------------+-----+\n",
      "|#covid|1379374206803136514|Covid: DVLA staff...|covid|\n",
      "+------+-------------------+--------------------+-----+\n",
      "\n",
      "========= 2021-04-06 12:12:50 =========\n",
      "+------+-------------------+--------------------+\n",
      "| label|           tweet_id|          tweet_text|\n",
      "+------+-------------------+--------------------+\n",
      "|#covid|1379374189279240193|Why #███████+ tec...|\n",
      "+------+-------------------+--------------------+\n",
      "\n",
      "+------+-------------------+--------------------+-----+\n",
      "| label|           tweet_id|          tweet_text| pred|\n",
      "+------+-------------------+--------------------+-----+\n",
      "|#covid|1379374189279240193|Why #███████+ tec...|covid|\n",
      "+------+-------------------+--------------------+-----+\n",
      "\n",
      "========= 2021-04-06 12:13:00 =========\n",
      "+--------+-------------------+--------------------+\n",
      "|   label|           tweet_id|          tweet_text|\n",
      "+--------+-------------------+--------------------+\n",
      "|#vaccine|1379374499380989955|Alhamidulillah My...|\n",
      "|#vaccine|1379374368929812481|16+ ELIGIBLE - #█...|\n",
      "+--------+-------------------+--------------------+\n",
      "\n",
      "+--------+-------------------+--------------------+-----+\n",
      "|   label|           tweet_id|          tweet_text| pred|\n",
      "+--------+-------------------+--------------------+-----+\n",
      "|#vaccine|1379374499380989955|Alhamidulillah My...|covid|\n",
      "|#vaccine|1379374368929812481|16+ ELIGIBLE - #█...|covid|\n",
      "+--------+-------------------+--------------------+-----+\n",
      "\n",
      "========= 2021-04-06 12:13:20 =========\n",
      "+--------+-------------------+--------------------+\n",
      "|   label|           tweet_id|          tweet_text|\n",
      "+--------+-------------------+--------------------+\n",
      "|#vaccine|1379374367969320964|#███████ #███████...|\n",
      "|#vaccine|1379374325678153733|16+ ELIGIBLE - #█...|\n",
      "+--------+-------------------+--------------------+\n",
      "\n",
      "+--------+-------------------+--------------------+-------+\n",
      "|   label|           tweet_id|          tweet_text|   pred|\n",
      "+--------+-------------------+--------------------+-------+\n",
      "|#vaccine|1379374367969320964|#███████ #███████...|vaccine|\n",
      "|#vaccine|1379374325678153733|16+ ELIGIBLE - #█...|  covid|\n",
      "+--------+-------------------+--------------------+-------+\n",
      "\n",
      "========= 2021-04-06 12:13:30 =========\n"
     ]
    }
   ],
   "source": [
    "ssc_t = StreamingThread(ssc)\n",
    "ssc_t.start()"
   ]
  },
  {
   "cell_type": "code",
   "execution_count": 10,
   "metadata": {
    "scrolled": true
   },
   "outputs": [
    {
     "name": "stdout",
     "output_type": "stream",
     "text": [
      "----- Stopping... this may take a few seconds -----\n",
      "+------+-------------------+--------------------+\n",
      "| label|           tweet_id|          tweet_text|\n",
      "+------+-------------------+--------------------+\n",
      "|#covid|1379374889824583681|For the latest in...|\n",
      "+------+-------------------+--------------------+\n",
      "\n",
      "+------+-------------------+--------------------+-----+\n",
      "| label|           tweet_id|          tweet_text| pred|\n",
      "+------+-------------------+--------------------+-----+\n",
      "|#covid|1379374889824583681|For the latest in...|covid|\n",
      "+------+-------------------+--------------------+-----+\n",
      "\n"
     ]
    }
   ],
   "source": [
    "ssc_t.stop()"
   ]
  },
  {
   "cell_type": "code",
   "execution_count": null,
   "metadata": {},
   "outputs": [],
   "source": []
  }
 ],
 "metadata": {
  "kernelspec": {
   "display_name": "Python 3",
   "language": "python",
   "name": "python3"
  },
  "language_info": {
   "codemirror_mode": {
    "name": "ipython",
    "version": 3
   },
   "file_extension": ".py",
   "mimetype": "text/x-python",
   "name": "python",
   "nbconvert_exporter": "python",
   "pygments_lexer": "ipython3",
   "version": "3.8.5"
  },
  "toc": {
   "base_numbering": 1,
   "nav_menu": {},
   "number_sections": true,
   "sideBar": true,
   "skip_h1_title": false,
   "title_cell": "Table of Contents",
   "title_sidebar": "Contents",
   "toc_cell": false,
   "toc_position": {},
   "toc_section_display": true,
   "toc_window_display": false
  }
 },
 "nbformat": 4,
 "nbformat_minor": 2
}
